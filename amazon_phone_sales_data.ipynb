{
 "cells": [
  {
   "cell_type": "code",
   "execution_count": 46,
   "metadata": {},
   "outputs": [],
   "source": [
    "#import libraries\n",
    "import os\n",
    "import glob\n",
    "import pandas as pd\n",
    "import matplotlib\n",
    "from matplotlib import pyplot as plt"
   ]
  },
  {
   "cell_type": "code",
   "execution_count": 2,
   "metadata": {},
   "outputs": [
    {
     "name": "stdout",
     "output_type": "stream",
     "text": [
      "c:\\Users\\AkhilVNairNair\\Desktop\\Data_Science_Project\\Amazon_Web_scraped_data\n"
     ]
    }
   ],
   "source": [
    "path = os.getcwd()\n",
    "print(path)"
   ]
  },
  {
   "cell_type": "code",
   "execution_count": 4,
   "metadata": {},
   "outputs": [
    {
     "name": "stdout",
     "output_type": "stream",
     "text": [
      "['c:\\\\Users\\\\AkhilVNairNair\\\\Desktop\\\\Data_Science_Project\\\\Amazon_Web_scraped_data\\\\Cleaned AmazonWebScraped Data(10-02-2021).csv', 'c:\\\\Users\\\\AkhilVNairNair\\\\Desktop\\\\Data_Science_Project\\\\Amazon_Web_scraped_data\\\\Cleaned AmazonWebScraped Data(10-05-2021).csv', 'c:\\\\Users\\\\AkhilVNairNair\\\\Desktop\\\\Data_Science_Project\\\\Amazon_Web_scraped_data\\\\Cleaned AmazonWebScraped Data(10-06-2021).csv', 'c:\\\\Users\\\\AkhilVNairNair\\\\Desktop\\\\Data_Science_Project\\\\Amazon_Web_scraped_data\\\\Cleaned AmazonWebScraped Data(10-08-2021).csv', 'c:\\\\Users\\\\AkhilVNairNair\\\\Desktop\\\\Data_Science_Project\\\\Amazon_Web_scraped_data\\\\Cleaned AmazonWebScraped Data(9-22-2021).csv', 'c:\\\\Users\\\\AkhilVNairNair\\\\Desktop\\\\Data_Science_Project\\\\Amazon_Web_scraped_data\\\\Cleaned AmazonWebScraped Data(9-23-2021).csv', 'c:\\\\Users\\\\AkhilVNairNair\\\\Desktop\\\\Data_Science_Project\\\\Amazon_Web_scraped_data\\\\Cleaned AmazonWebScraped Data(9-24-2021).csv', 'c:\\\\Users\\\\AkhilVNairNair\\\\Desktop\\\\Data_Science_Project\\\\Amazon_Web_scraped_data\\\\Cleaned AmazonWebScraped Data(9-25-2021).csv', 'c:\\\\Users\\\\AkhilVNairNair\\\\Desktop\\\\Data_Science_Project\\\\Amazon_Web_scraped_data\\\\Cleaned AmazonWebScraped Data(9-26-2021).csv', 'c:\\\\Users\\\\AkhilVNairNair\\\\Desktop\\\\Data_Science_Project\\\\Amazon_Web_scraped_data\\\\Cleaned AmazonWebScraped Data(9-27-2021).csv', 'c:\\\\Users\\\\AkhilVNairNair\\\\Desktop\\\\Data_Science_Project\\\\Amazon_Web_scraped_data\\\\Cleaned AmazonWebScraped Data(9-28-2021).csv', 'c:\\\\Users\\\\AkhilVNairNair\\\\Desktop\\\\Data_Science_Project\\\\Amazon_Web_scraped_data\\\\Cleaned AmazonWebScraped Data(9-29-2021).csv', 'c:\\\\Users\\\\AkhilVNairNair\\\\Desktop\\\\Data_Science_Project\\\\Amazon_Web_scraped_data\\\\Cleaned AmazonWebScraped Data(9-30-2021).csv']\n"
     ]
    }
   ],
   "source": [
    "csv_files = glob.glob(os.path.join(path, \"*.csv\"))\n",
    "print(csv_files)"
   ]
  },
  {
   "cell_type": "code",
   "execution_count": 5,
   "metadata": {},
   "outputs": [
    {
     "name": "stdout",
     "output_type": "stream",
     "text": [
      "             Date Brand             Model             Color  RAM    ROM  \\\n",
      "0  10/2/2021 0:00  iQOO  iQOO 7 Legend 5G             White  8GB  128GB   \n",
      "1  10/2/2021 0:00  iQOO        iQOO Z3 5G        Cyber Blue  8GB  256GB   \n",
      "2  10/2/2021 0:00    Mi             Mi 10       Coral Green  8GB  128GB   \n",
      "3  10/2/2021 0:00    Mi             Mi 10       Coral Green  8GB  256GB   \n",
      "4  10/2/2021 0:00    Mi         Mi 11X 5G  Celestial Silver  6GB  128GB   \n",
      "\n",
      "   Ratings out of 5      Price Sponsored  \n",
      "0               4.3  ₹39990.00        No  \n",
      "1               4.3  ₹20990.00        No  \n",
      "2               4.0  ₹49999.00        No  \n",
      "3               4.0  ₹54999.00        No  \n",
      "4               4.0  ₹26999.00        No  \n"
     ]
    },
    {
     "data": {
      "text/plain": [
       "(888, 9)"
      ]
     },
     "execution_count": 5,
     "metadata": {},
     "output_type": "execute_result"
    }
   ],
   "source": [
    "great_indian_sales_phone = [pd.read_csv(file, low_memory=False) for file in csv_files]\n",
    "great_indian_sales_phone = pd.concat(great_indian_sales_phone)\n",
    "print(great_indian_sales_phone.head())\n",
    "great_indian_sales_phone.shape"
   ]
  },
  {
   "cell_type": "code",
   "execution_count": 6,
   "metadata": {},
   "outputs": [
    {
     "data": {
      "text/plain": [
       "Date                 object\n",
       "Brand                object\n",
       "Model                object\n",
       "Color                object\n",
       "RAM                  object\n",
       "ROM                  object\n",
       "Ratings out of 5    float64\n",
       "Price                object\n",
       "Sponsored            object\n",
       "dtype: object"
      ]
     },
     "execution_count": 6,
     "metadata": {},
     "output_type": "execute_result"
    }
   ],
   "source": [
    "great_indian_sales_phone.dtypes"
   ]
  },
  {
   "cell_type": "code",
   "execution_count": 16,
   "metadata": {},
   "outputs": [],
   "source": [
    "#Converting Date Column to \"Date\" datatype\n",
    "great_indian_sales_phone[\"Date\"] =  pd.to_datetime(great_indian_sales_phone['Date'])\n"
   ]
  },
  {
   "cell_type": "code",
   "execution_count": 17,
   "metadata": {},
   "outputs": [
    {
     "data": {
      "text/plain": [
       "0    2021-10-02\n",
       "1    2021-10-02\n",
       "2    2021-10-02\n",
       "3    2021-10-02\n",
       "4    2021-10-02\n",
       "        ...    \n",
       "43   2021-09-30\n",
       "44   2021-09-30\n",
       "45   2021-09-30\n",
       "46   2021-09-30\n",
       "47   2021-09-30\n",
       "Name: Date, Length: 888, dtype: datetime64[ns]"
      ]
     },
     "execution_count": 17,
     "metadata": {},
     "output_type": "execute_result"
    }
   ],
   "source": [
    "great_indian_sales_phone[\"Date\"]"
   ]
  },
  {
   "cell_type": "code",
   "execution_count": 18,
   "metadata": {},
   "outputs": [
    {
     "data": {
      "text/plain": [
       "Date                datetime64[ns]\n",
       "Brand                       object\n",
       "Model                       object\n",
       "Color                       object\n",
       "RAM                         object\n",
       "ROM                         object\n",
       "Ratings out of 5           float64\n",
       "Price                       object\n",
       "Sponsored                   object\n",
       "dtype: object"
      ]
     },
     "execution_count": 18,
     "metadata": {},
     "output_type": "execute_result"
    }
   ],
   "source": [
    "great_indian_sales_phone.dtypes"
   ]
  },
  {
   "cell_type": "code",
   "execution_count": 19,
   "metadata": {},
   "outputs": [
    {
     "data": {
      "text/plain": [
       "(888, 9)"
      ]
     },
     "execution_count": 19,
     "metadata": {},
     "output_type": "execute_result"
    }
   ],
   "source": [
    "great_indian_sales_phone.shape"
   ]
  },
  {
   "cell_type": "code",
   "execution_count": 26,
   "metadata": {},
   "outputs": [],
   "source": [
    "#Replacing the currency symbol \n",
    "great_indian_sales_phone[\"Price\"]= great_indian_sales_phone[\"Price\"].str.replace('₹','')\n"
   ]
  },
  {
   "cell_type": "code",
   "execution_count": 30,
   "metadata": {},
   "outputs": [],
   "source": [
    "#Converting Price column to float datatype\n",
    "great_indian_sales_phone[\"Price\"] =great_indian_sales_phone[\"Price\"].astype(\"float64\")"
   ]
  },
  {
   "cell_type": "code",
   "execution_count": 31,
   "metadata": {},
   "outputs": [
    {
     "data": {
      "text/plain": [
       "Date                datetime64[ns]\n",
       "Brand                       object\n",
       "Model                       object\n",
       "Color                       object\n",
       "RAM                         object\n",
       "ROM                         object\n",
       "Ratings out of 5           float64\n",
       "Price                      float64\n",
       "Sponsored                   object\n",
       "dtype: object"
      ]
     },
     "execution_count": 31,
     "metadata": {},
     "output_type": "execute_result"
    }
   ],
   "source": [
    "great_indian_sales_phone.dtypes"
   ]
  },
  {
   "cell_type": "code",
   "execution_count": 33,
   "metadata": {},
   "outputs": [
    {
     "data": {
      "text/plain": [
       "Date                0\n",
       "Brand               0\n",
       "Model               0\n",
       "Color               0\n",
       "RAM                 0\n",
       "ROM                 0\n",
       "Ratings out of 5    0\n",
       "Price               0\n",
       "Sponsored           0\n",
       "dtype: int64"
      ]
     },
     "execution_count": 33,
     "metadata": {},
     "output_type": "execute_result"
    }
   ],
   "source": [
    "#Missing values in each column\n",
    "great_indian_sales_phone.isnull().sum()"
   ]
  },
  {
   "cell_type": "code",
   "execution_count": 39,
   "metadata": {},
   "outputs": [
    {
     "name": "stdout",
     "output_type": "stream",
     "text": [
      "13\n",
      "139\n"
     ]
    }
   ],
   "source": [
    "print(len(great_indian_sales_phone[\"Brand\"].unique()))\n",
    "print(len(great_indian_sales_phone[\"Model\"].unique()))"
   ]
  },
  {
   "cell_type": "markdown",
   "metadata": {},
   "source": [
    "We have 13 Phone Brands with 139 Models.\n",
    "Also among these 139 models there are other specs that we are missing out currently.\n",
    "Because the Models come with specs like Color, Rom, Ram and Ratings.\n",
    "\n",
    "\n",
    "To get the exact number of Models, we need to merge the Model Name, Color, RAM, ROM and create a new column and add it to DataFrame.\n",
    "\n",
    "Create a Model id column mapping to the above column."
   ]
  },
  {
   "cell_type": "code",
   "execution_count": 41,
   "metadata": {},
   "outputs": [],
   "source": [
    "great_indian_sales_phone[\"Model_Specs\"] = great_indian_sales_phone[[\"Model\",\"Color\",\"RAM\",\"ROM\"]].agg('|'.join, axis=1)\n"
   ]
  },
  {
   "cell_type": "code",
   "execution_count": 43,
   "metadata": {},
   "outputs": [
    {
     "data": {
      "text/html": [
       "<div>\n",
       "<style scoped>\n",
       "    .dataframe tbody tr th:only-of-type {\n",
       "        vertical-align: middle;\n",
       "    }\n",
       "\n",
       "    .dataframe tbody tr th {\n",
       "        vertical-align: top;\n",
       "    }\n",
       "\n",
       "    .dataframe thead th {\n",
       "        text-align: right;\n",
       "    }\n",
       "</style>\n",
       "<table border=\"1\" class=\"dataframe\">\n",
       "  <thead>\n",
       "    <tr style=\"text-align: right;\">\n",
       "      <th></th>\n",
       "      <th>Date</th>\n",
       "      <th>Brand</th>\n",
       "      <th>Model</th>\n",
       "      <th>Color</th>\n",
       "      <th>RAM</th>\n",
       "      <th>ROM</th>\n",
       "      <th>Ratings out of 5</th>\n",
       "      <th>Price</th>\n",
       "      <th>Sponsored</th>\n",
       "      <th>Model_Specs</th>\n",
       "    </tr>\n",
       "  </thead>\n",
       "  <tbody>\n",
       "    <tr>\n",
       "      <th>0</th>\n",
       "      <td>2021-10-02</td>\n",
       "      <td>iQOO</td>\n",
       "      <td>iQOO 7 Legend 5G</td>\n",
       "      <td>White</td>\n",
       "      <td>8GB</td>\n",
       "      <td>128GB</td>\n",
       "      <td>4.3</td>\n",
       "      <td>39990.0</td>\n",
       "      <td>No</td>\n",
       "      <td>iQOO 7 Legend 5G|White|8GB|128GB</td>\n",
       "    </tr>\n",
       "    <tr>\n",
       "      <th>1</th>\n",
       "      <td>2021-10-02</td>\n",
       "      <td>iQOO</td>\n",
       "      <td>iQOO Z3 5G</td>\n",
       "      <td>Cyber Blue</td>\n",
       "      <td>8GB</td>\n",
       "      <td>256GB</td>\n",
       "      <td>4.3</td>\n",
       "      <td>20990.0</td>\n",
       "      <td>No</td>\n",
       "      <td>iQOO Z3 5G|Cyber Blue|8GB|256GB</td>\n",
       "    </tr>\n",
       "    <tr>\n",
       "      <th>2</th>\n",
       "      <td>2021-10-02</td>\n",
       "      <td>Mi</td>\n",
       "      <td>Mi 10</td>\n",
       "      <td>Coral Green</td>\n",
       "      <td>8GB</td>\n",
       "      <td>128GB</td>\n",
       "      <td>4.0</td>\n",
       "      <td>49999.0</td>\n",
       "      <td>No</td>\n",
       "      <td>Mi 10|Coral Green|8GB|128GB</td>\n",
       "    </tr>\n",
       "    <tr>\n",
       "      <th>3</th>\n",
       "      <td>2021-10-02</td>\n",
       "      <td>Mi</td>\n",
       "      <td>Mi 10</td>\n",
       "      <td>Coral Green</td>\n",
       "      <td>8GB</td>\n",
       "      <td>256GB</td>\n",
       "      <td>4.0</td>\n",
       "      <td>54999.0</td>\n",
       "      <td>No</td>\n",
       "      <td>Mi 10|Coral Green|8GB|256GB</td>\n",
       "    </tr>\n",
       "    <tr>\n",
       "      <th>4</th>\n",
       "      <td>2021-10-02</td>\n",
       "      <td>Mi</td>\n",
       "      <td>Mi 11X 5G</td>\n",
       "      <td>Celestial Silver</td>\n",
       "      <td>6GB</td>\n",
       "      <td>128GB</td>\n",
       "      <td>4.0</td>\n",
       "      <td>26999.0</td>\n",
       "      <td>No</td>\n",
       "      <td>Mi 11X 5G|Celestial Silver|6GB|128GB</td>\n",
       "    </tr>\n",
       "  </tbody>\n",
       "</table>\n",
       "</div>"
      ],
      "text/plain": [
       "        Date Brand             Model             Color  RAM    ROM  \\\n",
       "0 2021-10-02  iQOO  iQOO 7 Legend 5G             White  8GB  128GB   \n",
       "1 2021-10-02  iQOO        iQOO Z3 5G        Cyber Blue  8GB  256GB   \n",
       "2 2021-10-02    Mi             Mi 10       Coral Green  8GB  128GB   \n",
       "3 2021-10-02    Mi             Mi 10       Coral Green  8GB  256GB   \n",
       "4 2021-10-02    Mi         Mi 11X 5G  Celestial Silver  6GB  128GB   \n",
       "\n",
       "   Ratings out of 5    Price Sponsored                           Model_Specs  \n",
       "0               4.3  39990.0        No      iQOO 7 Legend 5G|White|8GB|128GB  \n",
       "1               4.3  20990.0        No       iQOO Z3 5G|Cyber Blue|8GB|256GB  \n",
       "2               4.0  49999.0        No           Mi 10|Coral Green|8GB|128GB  \n",
       "3               4.0  54999.0        No           Mi 10|Coral Green|8GB|256GB  \n",
       "4               4.0  26999.0        No  Mi 11X 5G|Celestial Silver|6GB|128GB  "
      ]
     },
     "execution_count": 43,
     "metadata": {},
     "output_type": "execute_result"
    }
   ],
   "source": [
    "great_indian_sales_phone.head()"
   ]
  },
  {
   "cell_type": "code",
   "execution_count": 45,
   "metadata": {},
   "outputs": [
    {
     "data": {
      "text/plain": [
       "374"
      ]
     },
     "execution_count": 45,
     "metadata": {},
     "output_type": "execute_result"
    }
   ],
   "source": [
    "len(great_indian_sales_phone[\"Model_Specs\"].unique())"
   ]
  },
  {
   "cell_type": "markdown",
   "metadata": {},
   "source": [
    "We now can see 374 models with Unique specs"
   ]
  },
  {
   "cell_type": "code",
   "execution_count": 66,
   "metadata": {},
   "outputs": [
    {
     "data": {
      "text/plain": [
       "Brand   Model             \n",
       "Mi      MI 10T 5G              1\n",
       "        MI 10T Pro 5G          1\n",
       "        Mi 10                  4\n",
       "        Mi 10i 5G              7\n",
       "        Mi 11X 5G             23\n",
       "                              ..\n",
       "realme  realme U1              2\n",
       "        realme narzo 30        3\n",
       "        realme narzo 30 5G     2\n",
       "        realme narzo 50A      11\n",
       "        realme narzo 50i       9\n",
       "Length: 148, dtype: int64"
      ]
     },
     "execution_count": 66,
     "metadata": {},
     "output_type": "execute_result"
    }
   ],
   "source": [
    "great_indian_sales_phone.groupby([\"Brand\",\"Model\"]).size()"
   ]
  },
  {
   "cell_type": "markdown",
   "metadata": {},
   "source": [
    "Creating a Scatter Plot to find the relationship between Review and the Price of phones"
   ]
  },
  {
   "cell_type": "code",
   "execution_count": 71,
   "metadata": {},
   "outputs": [
    {
     "data": {
      "text/plain": [
       "<AxesSubplot:xlabel='Price', ylabel='Ratings out of 5'>"
      ]
     },
     "execution_count": 71,
     "metadata": {},
     "output_type": "execute_result"
    },
    {
     "data": {
      "image/png": "[encoded data removed]",
      "text/plain": [
       "<Figure size 432x288 with 1 Axes>"
      ]
     },
     "metadata": {
      "needs_background": "light"
     },
     "output_type": "display_data"
    }
   ],
   "source": [
    "review = great_indian_sales_phone[\"Ratings out of 5\"]\n",
    "price = great_indian_sales_phone[\"Price\"]\n",
    "brand = great_indian_sales_phone[\"Brand\"]\n",
    "\n",
    "great_indian_sales_phone.plot.scatter(x= \"Price\", y = \"Ratings out of 5\", s = \"Ratings out of 5\", c = 'red')"
   ]
  },
  {
   "cell_type": "markdown",
   "metadata": {},
   "source": [
    "From the Plot we get to see that:\n",
    "1. Most of the highly rated phones ranging from 4 to 4.5 are in the price range of 0 to 50K\n",
    "2. We see only two dots at 5 which could explain the number of reviews provided for the particular phones were less compared to other phones, this might explain that those Phones could be new to Amazon portal.\n",
    "3. We see couple of dots at the lower rating on 1 and 2. This could mean that the phones were not that popular when compared to other phones within the same price range which might also have better features.\n",
    "4. Ratings for prices above 125k are seen to be in mid range, between 3 to 4, which means that despite being categorized under high price range, the ratings are average. This could mean that the very few would  purchase a high price range phones and are not too SATISFIED with it."
   ]
  },
  {
   "cell_type": "code",
   "execution_count": 73,
   "metadata": {},
   "outputs": [],
   "source": [
    "great_indian_sales_phone.to_csv(\"android_phone_data.csv\")"
   ]
  },
  {
   "cell_type": "markdown",
   "metadata": {},
   "source": []
  },
  {
   "cell_type": "markdown",
   "metadata": {},
   "source": [
    "Ending the notebook here. Will be building a database in SQL and provide insights using a Power BI Dashboard."
   ]
  }
 ],
 "metadata": {
  "interpreter": {
   "hash": "ec8deda72b4511f1c1d6e8fe7b5b0e683567493d92c77d6b2851238236c0fd3f"
  },
  "kernelspec": {
   "display_name": "Python 3.9.7 64-bit",
   "language": "python",
   "name": "python3"
  },
  "language_info": {
   "codemirror_mode": {
    "name": "ipython",
    "version": 3
   },
   "file_extension": ".py",
   "mimetype": "text/x-python",
   "name": "python",
   "nbconvert_exporter": "python",
   "pygments_lexer": "ipython3",
   "version": "3.9.7"
  },
  "orig_nbformat": 4
 },
 "nbformat": 4,
 "nbformat_minor": 2
}
